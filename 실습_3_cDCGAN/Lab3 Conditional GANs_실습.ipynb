{
 "cells": [
  {
   "cell_type": "markdown",
   "metadata": {},
   "source": [
    "<center> \n",
    "    <h1>폰트 생성 (Font Generation) using Conditional GANs (cGANs)</h1>\n",
    "</center>"
   ]
  },
  {
   "cell_type": "markdown",
   "metadata": {},
   "source": [
    "<h3 style='color:green'>Why cGANs?</h3>\n",
    "\n",
    "[Vanilla GAN](https://arxiv.org/pdf/1406.2661.pdf) 이 2014 에 발표된 이후 GAN에 관한 연구가 활발히 진행되었음\n",
    "\n",
    "- 지금까지 살펴본 바와 같이 GAN model 은 Generator 와 Discriminator 의 두 networks 가 minimax game 을 통해  \n",
    "generated image가 실제 이미지에 근접해 가는 것을 알수있었음  \n",
    "- 그러나  image 생성은 random noise 로 부터 시작된 것으로 우리가 control 한 것이 아님  \n",
    "random noise 대신 우리가 원하는 이미지를 넣으면 어떨까? (condition, label)\n",
    "\n",
    "## Conditional GANs\n",
    "\n",
    "[CGAN paper](https://arxiv.org/pdf/1411.1784.pdf)\n",
    "\n",
    ">\"*In this work we introduce the conditional version of generative adversarial nets,   \n",
    "which can be constructed by simply feeding the data, y, we wish to condition on to both the generator and  \n",
    "discriminator. We show that this model can generate MNIST digits conditioned on class labels*\"\n",
    "\n",
    "<img src=\"../Figures/CGAN.png\" width=500px>\n",
    "\n",
    "<img src=\"../Figures/cGAN1.png\" width=600px>\n",
    "\n",
    "이번 실습은 DCGAN 에 conditional version 을 추가한 CDCGAN 으로 실습함.  \n",
    "\n",
    "<br>\n",
    "\n"
   ]
  },
  {
   "cell_type": "markdown",
   "metadata": {},
   "source": [
    "<h3 style='color:green'>Lab Overview </h3>  \n",
    "\n",
    "<ol>\n",
    "    <li>Import libraries </li>\n",
    "    <li>Dataset 준비</li>\n",
    "    <li>Network architecture</li>\n",
    "    <li>Loss and optimizer</li>\n",
    "    <li>Training</li>\n",
    "    <li>Generating alphabets given a character label(y)</li>\n",
    "</ol>\n",
    "    \n",
    "    "
   ]
  },
  {
   "cell_type": "markdown",
   "metadata": {},
   "source": [
    "### Import libraries\n"
   ]
  },
  {
   "cell_type": "code",
   "execution_count": 2,
   "metadata": {},
   "outputs": [
    {
     "data": {
      "text/plain": [
       "'2.4.1'"
      ]
     },
     "execution_count": 2,
     "metadata": {},
     "output_type": "execute_result"
    }
   ],
   "source": [
    "import tensorflow as tf\n",
    "tf.__version__"
   ]
  },
  {
   "cell_type": "code",
   "execution_count": 3,
   "metadata": {},
   "outputs": [],
   "source": [
    "# Importing other modules required for this lab\n",
    "import glob\n",
    "import imageio\n",
    "import matplotlib.pyplot as plt\n",
    "import numpy as np\n",
    "import os\n",
    "import PIL\n",
    "from tensorflow import keras\n",
    "from tensorflow.keras import layers\n",
    "import time\n",
    "import pathlib\n",
    "from  tensorflow.keras.initializers  import  RandomNormal \n",
    "\n",
    "from IPython import display\n",
    "\n",
    "total_characters = 26"
   ]
  },
  {
   "cell_type": "markdown",
   "metadata": {},
   "source": [
    "### Dataset 준비  \n",
    "\n",
    "We saw last time how our \"lab2-dataset-generator.py\" module generates images that we used for training our previous two models. However, we can not use the same module for this lab because we need additional data which is the label i.e. character label of each image such that the model can differentiate between all 26 characters.<br> \n",
    "The easiest and reliable way is to represent each character as a number and then later convert the number into onehot vector representing each character. For this we have designed a module which is very similar to the previous module however, labels are stored as the image name.\n",
    "Open the terminal and run the below command to generate dataset for this lab (lab3). Make sure to activate your environment, <b>tutorial-TF</b> in our case. <br><br>\n",
    "<code>python ./data_generation/tools/Lab3_CDCGAN/lab3-dataset-generator.py</code><br><br>\n",
    "This will create a new directory in root with name \"lab3-image-data/font-images\" containing (64,64) dimensional images which we will use for training our CDCGAN. The important change is that the image names have the labels \"n_m.png\" where, n represents the style of the font and m represents the character i.e. m=1 for A, m=2 for B, m=3 for C, etc.<br>\n",
    "<b>Note</b> It will generate x*26 number of images where x is the total number of fonts in our fonts directory and 26 are the total number of character labels in the labels directory. "
   ]
  },
  {
   "cell_type": "markdown",
   "metadata": {},
   "source": [
    "Ok so far so good. Lets create an input pipeline in TensorFlow to load the data for our model. We will utilize the <a href=\"https://www.tensorflow.org/api_docs/python/tf/data/Dataset\" target=\"_blank\">Dataset api</a> which is an API for input pipelines in TensorFlow. <br>\n",
    "First we will setup the path of the image directory by running the below code.  "
   ]
  },
  {
   "cell_type": "code",
   "execution_count": 3,
   "metadata": {},
   "outputs": [],
   "source": [
    "# Setting up paths for the input images\n",
    "SCRIPT_PATH = os.path.join(os.getcwd())\n",
    "path_to_img_dir = os.path.join(SCRIPT_PATH, '../lab3-image-data/font-images/')"
   ]
  },
  {
   "cell_type": "code",
   "execution_count": 4,
   "metadata": {},
   "outputs": [
    {
     "name": "stdout",
     "output_type": "stream",
     "text": [
      "78\n"
     ]
    }
   ],
   "source": [
    "# Counting the total number of font images on our image directory\n",
    "data_dir = pathlib.Path(path_to_img_dir)\n",
    "image_count = len(list(data_dir.glob('*.png')))\n",
    "print(image_count)"
   ]
  },
  {
   "cell_type": "code",
   "execution_count": 5,
   "metadata": {},
   "outputs": [
    {
     "data": {
      "image/png": "[encoded data removed]",
      "text/plain": [
       "<PIL.PngImagePlugin.PngImageFile image mode=L size=64x64 at 0x12643D27348>"
      ]
     },
     "execution_count": 5,
     "metadata": {},
     "output_type": "execute_result"
    }
   ],
   "source": [
    "# Let's display out any random image from the image direcotory\n",
    "images = list(data_dir.glob('*'))\n",
    "PIL.Image.open(str(images[4]))"
   ]
  },
  {
   "cell_type": "markdown",
   "metadata": {},
   "source": [
    "So far we have the list of all the paths of the images however our tensorflow model doesnt need this. For this we need to convert these paths into numpy array format so that we can pass it to the model later. For this, below we create a function that will return us all the images as a numpy array with a dimension <b>64x64x1</b>."
   ]
  },
  {
   "cell_type": "code",
   "execution_count": 6,
   "metadata": {},
   "outputs": [],
   "source": [
    "# Given a path below functions extracts the name of the file from it\n",
    "def get_name(path):\n",
    "    name, typeis = os.path.splitext(os.path.basename(path))\n",
    "    return name\n",
    "\n",
    "# get_imgs_labels(path) takes the path of the image directory and returns a list containg all images full paths.  \n",
    "# The return type is <class 'list'>\n",
    "# Then we take individual path from the list and create a numpy array with desired size\n",
    "def get_imgs_labels(input_dir):\n",
    "    if input_dir is None or not os.path.exists(input_dir):\n",
    "        raise Exception(\"input_dir does not exist\")\n",
    "\n",
    "    input_paths = glob.glob(os.path.join(input_dir, \"*.png\"))\n",
    "\n",
    "    if len(input_paths) == 0:\n",
    "        raise Exception(\"input_dir contains no image files\")\n",
    "\n",
    "    # if the image names are numbers, sort by the value rather than asciibetically\n",
    "    # having sorted inputs means that the outputs are sorted in test mode\n",
    "    input_paths = sorted(input_paths, key=lambda path: int(get_name(path)))\n",
    "\n",
    "    # Preprocess individual path and convert into numpy array with desired size\n",
    "    training_images = []\n",
    "    training_label = []\n",
    "    for path in input_paths:\n",
    "        # Preprocessing character label\n",
    "        # Getting the character label m from the file name of image\n",
    "        name, typeis = os.path.splitext(os.path.basename(path))\n",
    "        character_name = name.split('_')[1]\n",
    "        # Preprocessing image\n",
    "        image = PIL.Image.open(path).resize((64,\n",
    "                64),PIL.Image.ANTIALIAS)\n",
    "        # Appending labels and images into a list\n",
    "        training_label.append(np.asarray(character_name))\n",
    "        training_images.append(np.asarray(image))\n",
    "    training_label = np.reshape(training_label,(-1))\n",
    "    training_images = np.reshape(training_images,(-1,64,64,1))\n",
    "  \n",
    "    return np.asarray(training_images), np.asarray(training_label)"
   ]
  },
  {
   "cell_type": "code",
   "execution_count": 7,
   "metadata": {},
   "outputs": [],
   "source": [
    "# call the function to get all images and their labels into desired type and dimension\n",
    "train_images, train_labels = get_imgs_labels(data_dir)"
   ]
  },
  {
   "cell_type": "code",
   "execution_count": 8,
   "metadata": {},
   "outputs": [
    {
     "name": "stdout",
     "output_type": "stream",
     "text": [
      "(78, 64, 64, 1)\n",
      "(78, 26)\n"
     ]
    }
   ],
   "source": [
    "# Lets reshape and normalize the images\n",
    "train_images = train_images.reshape(train_images.shape[0], 64,64,1).astype('float32')\n",
    "train_images = (train_images - 127.5) / 127.5 # Normalize the images to [-1, 1]\n",
    "\n",
    "# Lets reshape and convert the labels into onehot vectors\n",
    "train_labels = train_labels.astype(\"int64\")\n",
    "train_labels = tf.one_hot(train_labels, depth=total_characters)\n",
    "# Lets print the shapes of images and labels\n",
    "print(train_images.shape)\n",
    "print(train_labels.shape)"
   ]
  },
  {
   "cell_type": "code",
   "execution_count": 9,
   "metadata": {},
   "outputs": [],
   "source": [
    "# This is where we use the dataset Api. We call a batch of data according to our Batch size\n",
    "BUFFER_SIZE = 60000\n",
    "BATCH_SIZE = 32\n",
    "\n",
    "train_dataset = tf.data.Dataset.from_tensor_slices((train_images, train_labels))\n",
    "# Shuffle and slice the dataset.\n",
    "train_dataset = train_dataset.shuffle(buffer_size=BUFFER_SIZE).batch(BATCH_SIZE)"
   ]
  },
  {
   "cell_type": "markdown",
   "metadata": {},
   "source": [
    "So far so good. So in summary above we created our dataset pipeline using tf.data api. We created a function to get all the images and their labels in numpy array format, then we reshaped them and applied preprocessing . Then we called <b>tf.data.Dataset.from_tensor_slices()</b> to actually get the input data for our model. "
   ]
  },
  {
   "cell_type": "markdown",
   "metadata": {},
   "source": [
    "<h2>Network architecture</h2>"
   ]
  },
  {
   "cell_type": "markdown",
   "metadata": {},
   "source": [
    "So now let's build our model. We will be using the exactly same DCGAN we created in the last lab however, the only difference this time is the input to the Generator and the Discriminator.<br><br>\n",
    "<b>Generator</b>\n",
    "<br>\n",
    "In generators case last time we only used noise as an input however this time we will concatenate the character label with the noise. Therefore, as shown below the input shape to the first Fully connected layer of the generator is the summation of random noise 100 + total_characters where total_characters = 26. "
   ]
  },
  {
   "cell_type": "code",
   "execution_count": 10,
   "metadata": {},
   "outputs": [],
   "source": [
    "def make_generator_model():\n",
    "    model = tf.keras.Sequential()\n",
    "\n",
    "    model.add(layers.Dense(4*4*256,activation=\"relu\",input_shape=(100+total_characters,)))\n",
    "    model.add(layers.Reshape((4,4,256)))\n",
    "\n",
    "    model.add(layers.UpSampling2D())\n",
    "    model.add(layers.Conv2D(256,kernel_size=3,padding=\"same\"))\n",
    "    model.add(layers.BatchNormalization(momentum=0.8))\n",
    "    model.add(layers.Activation(\"relu\"))\n",
    "\n",
    "    model.add(layers.UpSampling2D())\n",
    "    model.add(layers.Conv2D(256,kernel_size=3,padding=\"same\"))\n",
    "    model.add(layers.BatchNormalization(momentum=0.8))\n",
    "    model.add(layers.Activation(\"relu\"))\n",
    "   \n",
    "    # Output resolution, additional upsampling\n",
    "    model.add(layers.UpSampling2D())\n",
    "    model.add(layers.Conv2D(128,kernel_size=3,padding=\"same\"))\n",
    "    model.add(layers.BatchNormalization(momentum=0.8))\n",
    "    model.add(layers.Activation(\"relu\"))\n",
    "\n",
    "    model.add(layers.UpSampling2D(size=(2,2)))\n",
    "    model.add(layers.Conv2D(128,kernel_size=3,padding=\"same\"))\n",
    "    model.add(layers.BatchNormalization(momentum=0.8))\n",
    "    model.add(layers.Activation(\"relu\"))\n",
    "\n",
    "    # Final CNN layer\n",
    "    model.add(layers.Conv2D(1,kernel_size=3,padding=\"same\"))\n",
    "    model.add(layers.Activation(\"tanh\"))\n",
    "\n",
    "    return model"
   ]
  },
  {
   "cell_type": "markdown",
   "metadata": {},
   "source": [
    "Lets pass a random noise concatenated with character A's label and see what our untrained Generator outputs"
   ]
  },
  {
   "cell_type": "code",
   "execution_count": 11,
   "metadata": {},
   "outputs": [
    {
     "name": "stdout",
     "output_type": "stream",
     "text": [
      "Model: \"sequential\"\n",
      "_________________________________________________________________\n",
      "Layer (type)                 Output Shape              Param #   \n",
      "=================================================================\n",
      "dense (Dense)                (None, 4096)              520192    \n",
      "_________________________________________________________________\n",
      "reshape (Reshape)            (None, 4, 4, 256)         0         \n",
      "_________________________________________________________________\n",
      "up_sampling2d (UpSampling2D) (None, 8, 8, 256)         0         \n",
      "_________________________________________________________________\n",
      "conv2d (Conv2D)              (None, 8, 8, 256)         590080    \n",
      "_________________________________________________________________\n",
      "batch_normalization (BatchNo (None, 8, 8, 256)         1024      \n",
      "_________________________________________________________________\n",
      "activation (Activation)      (None, 8, 8, 256)         0         \n",
      "_________________________________________________________________\n",
      "up_sampling2d_1 (UpSampling2 (None, 16, 16, 256)       0         \n",
      "_________________________________________________________________\n",
      "conv2d_1 (Conv2D)            (None, 16, 16, 256)       590080    \n",
      "_________________________________________________________________\n",
      "batch_normalization_1 (Batch (None, 16, 16, 256)       1024      \n",
      "_________________________________________________________________\n",
      "activation_1 (Activation)    (None, 16, 16, 256)       0         \n",
      "_________________________________________________________________\n",
      "up_sampling2d_2 (UpSampling2 (None, 32, 32, 256)       0         \n",
      "_________________________________________________________________\n",
      "conv2d_2 (Conv2D)            (None, 32, 32, 128)       295040    \n",
      "_________________________________________________________________\n",
      "batch_normalization_2 (Batch (None, 32, 32, 128)       512       \n",
      "_________________________________________________________________\n",
      "activation_2 (Activation)    (None, 32, 32, 128)       0         \n",
      "_________________________________________________________________\n",
      "up_sampling2d_3 (UpSampling2 (None, 64, 64, 128)       0         \n",
      "_________________________________________________________________\n",
      "conv2d_3 (Conv2D)            (None, 64, 64, 128)       147584    \n",
      "_________________________________________________________________\n",
      "batch_normalization_3 (Batch (None, 64, 64, 128)       512       \n",
      "_________________________________________________________________\n",
      "activation_3 (Activation)    (None, 64, 64, 128)       0         \n",
      "_________________________________________________________________\n",
      "conv2d_4 (Conv2D)            (None, 64, 64, 1)         1153      \n",
      "_________________________________________________________________\n",
      "activation_4 (Activation)    (None, 64, 64, 1)         0         \n",
      "=================================================================\n",
      "Total params: 2,147,201\n",
      "Trainable params: 2,145,665\n",
      "Non-trainable params: 1,536\n",
      "_________________________________________________________________\n",
      "label shape is (1, 26)\n",
      "\n",
      "noise shape is (1, 100)\n",
      "\n",
      "concat shape (1, 126)\n"
     ]
    },
    {
     "data": {
      "text/plain": [
       "<matplotlib.image.AxesImage at 0x126340376c8>"
      ]
     },
     "execution_count": 11,
     "metadata": {},
     "output_type": "execute_result"
    },
    {
     "data": {
      "image/png": "[encoded data removed]",
      "text/plain": [
       "<Figure size 432x288 with 1 Axes>"
      ]
     },
     "metadata": {
      "needs_background": "light"
     },
     "output_type": "display_data"
    }
   ],
   "source": [
    "generator = make_generator_model()\n",
    "# below shows the network architecture summary\n",
    "generator.summary()\n",
    "\n",
    "# Sample random noise from uniform distribution with shape as below\n",
    "noise = tf.random.normal([1, 100])\n",
    "\n",
    "# Prepare onehot label to concatenate with the above noise\n",
    "# int_labels represents the character no. 1 means A here.\n",
    "int_labels = 1\n",
    "# convert into onehot representation.\n",
    "y_train = keras.utils.to_categorical(int_labels, num_classes=total_characters)\n",
    "# reshape to make the 0 index of y_train equal to noise which is 1.\n",
    "y_train = y_train.reshape(1, total_characters)\n",
    "\n",
    "# Debugging #\n",
    "print(\"label shape is\", y_train.shape)\n",
    "print()\n",
    "print(\"noise shape is\", noise.shape)\n",
    "print()\n",
    "\n",
    "# Now concatenate both on last axis.\n",
    "noise_label = np.concatenate((noise, y_train), axis=-1)\n",
    "print('concat shape', noise_label.shape)\n",
    "\n",
    "# pass the concatenated input to the generator.\n",
    "generated_image = generator(noise_label, training=False)\n",
    "\n",
    "# Plot the result.\n",
    "plt.imshow(generated_image[0, :, :, 0], cmap='gray')"
   ]
  },
  {
   "cell_type": "markdown",
   "metadata": {},
   "source": [
    "<b>Discriminator</b>\n",
    "<br>\n",
    "The discriminator is also similar to the one we saw in the last lab however, we again need to pass it the concatenated input i.e. input image concatenated with its corresponding label on the last axis (channel in this case). As seen below the input_shape variable has 1+total_character at the end."
   ]
  },
  {
   "cell_type": "code",
   "execution_count": 12,
   "metadata": {},
   "outputs": [],
   "source": [
    "def make_discriminator_model():\n",
    "    model = tf.keras.Sequential()\n",
    "    model.add(layers.Conv2D(32, kernel_size=3, strides=2, input_shape=[64, 64, 1+total_characters], \n",
    "                     padding=\"same\"))\n",
    "    model.add(layers.LeakyReLU(alpha=0.2))\n",
    "\n",
    "    model.add(layers.Dropout(0.25))\n",
    "    model.add(layers.Conv2D(64, kernel_size=3, strides=2, padding=\"same\"))\n",
    "    model.add(layers.ZeroPadding2D(padding=((0,1),(0,1))))\n",
    "    model.add(layers.BatchNormalization(momentum=0.8))\n",
    "    model.add(layers.LeakyReLU(alpha=0.2))\n",
    "\n",
    "    model.add(layers.Dropout(0.25))\n",
    "    model.add(layers.Conv2D(128, kernel_size=3, strides=2, padding=\"same\"))\n",
    "    model.add(layers.BatchNormalization(momentum=0.8))\n",
    "    model.add(layers.LeakyReLU(alpha=0.2))\n",
    "\n",
    "    model.add(layers.Dropout(0.25))\n",
    "    model.add(layers.Conv2D(256, kernel_size=3, strides=1, padding=\"same\"))\n",
    "    model.add(layers.BatchNormalization(momentum=0.8))\n",
    "    model.add(layers.LeakyReLU(alpha=0.2))\n",
    "\n",
    "    model.add(layers.Dropout(0.25))\n",
    "    model.add(layers.Conv2D(512, kernel_size=3, strides=1, padding=\"same\"))\n",
    "    model.add(layers.BatchNormalization(momentum=0.8))\n",
    "    model.add(layers.LeakyReLU(alpha=0.2))\n",
    "\n",
    "    model.add(layers.Dropout(0.25))\n",
    "    model.add(layers.Flatten())\n",
    "    model.add(layers.Dense(1, activation='sigmoid'))\n",
    "\n",
    "    return model"
   ]
  },
  {
   "cell_type": "markdown",
   "metadata": {},
   "source": [
    "Use the (as yet untrained) discriminator to classify the generated images as real or fake. The model will be trained to output positive values for real images, and negative values for fake images. Lets create an input for the Discriminator and test it."
   ]
  },
  {
   "cell_type": "code",
   "execution_count": 13,
   "metadata": {},
   "outputs": [
    {
     "name": "stdout",
     "output_type": "stream",
     "text": [
      "Model: \"sequential_1\"\n",
      "_________________________________________________________________\n",
      "Layer (type)                 Output Shape              Param #   \n",
      "=================================================================\n",
      "conv2d_5 (Conv2D)            (None, 32, 32, 32)        7808      \n",
      "_________________________________________________________________\n",
      "leaky_re_lu (LeakyReLU)      (None, 32, 32, 32)        0         \n",
      "_________________________________________________________________\n",
      "dropout (Dropout)            (None, 32, 32, 32)        0         \n",
      "_________________________________________________________________\n",
      "conv2d_6 (Conv2D)            (None, 16, 16, 64)        18496     \n",
      "_________________________________________________________________\n",
      "zero_padding2d (ZeroPadding2 (None, 17, 17, 64)        0         \n",
      "_________________________________________________________________\n",
      "batch_normalization_4 (Batch (None, 17, 17, 64)        256       \n",
      "_________________________________________________________________\n",
      "leaky_re_lu_1 (LeakyReLU)    (None, 17, 17, 64)        0         \n",
      "_________________________________________________________________\n",
      "dropout_1 (Dropout)          (None, 17, 17, 64)        0         \n",
      "_________________________________________________________________\n",
      "conv2d_7 (Conv2D)            (None, 9, 9, 128)         73856     \n",
      "_________________________________________________________________\n",
      "batch_normalization_5 (Batch (None, 9, 9, 128)         512       \n",
      "_________________________________________________________________\n",
      "leaky_re_lu_2 (LeakyReLU)    (None, 9, 9, 128)         0         \n",
      "_________________________________________________________________\n",
      "dropout_2 (Dropout)          (None, 9, 9, 128)         0         \n",
      "_________________________________________________________________\n",
      "conv2d_8 (Conv2D)            (None, 9, 9, 256)         295168    \n",
      "_________________________________________________________________\n",
      "batch_normalization_6 (Batch (None, 9, 9, 256)         1024      \n",
      "_________________________________________________________________\n",
      "leaky_re_lu_3 (LeakyReLU)    (None, 9, 9, 256)         0         \n",
      "_________________________________________________________________\n",
      "dropout_3 (Dropout)          (None, 9, 9, 256)         0         \n",
      "_________________________________________________________________\n",
      "conv2d_9 (Conv2D)            (None, 9, 9, 512)         1180160   \n",
      "_________________________________________________________________\n",
      "batch_normalization_7 (Batch (None, 9, 9, 512)         2048      \n",
      "_________________________________________________________________\n",
      "leaky_re_lu_4 (LeakyReLU)    (None, 9, 9, 512)         0         \n",
      "_________________________________________________________________\n",
      "dropout_4 (Dropout)          (None, 9, 9, 512)         0         \n",
      "_________________________________________________________________\n",
      "flatten (Flatten)            (None, 41472)             0         \n",
      "_________________________________________________________________\n",
      "dense_1 (Dense)              (None, 1)                 41473     \n",
      "=================================================================\n",
      "Total params: 1,620,801\n",
      "Trainable params: 1,618,881\n",
      "Non-trainable params: 1,920\n",
      "_________________________________________________________________\n",
      "y_train shape1 (26,)\n",
      "\n",
      "y_train shape2 (1, 1, 1, 26)\n",
      "\n",
      "y_train shape3 (1, 64, 64, 26)\n",
      "\n",
      "generated_image shape (1, 64, 64, 1)\n",
      "\n",
      "generated_image_label shape (1, 64, 64, 27)\n",
      "\n",
      "tf.Tensor([[0.49658465]], shape=(1, 1), dtype=float32)\n"
     ]
    }
   ],
   "source": [
    "discriminator = make_discriminator_model()\n",
    "discriminator.summary()\n",
    "\n",
    "# Preparing input label for Discriminator\n",
    "int_labels = 1\n",
    "y_train = keras.utils.to_categorical(int_labels, num_classes=total_characters)\n",
    "print(\"y_train shape1\", y_train.shape)\n",
    "print()\n",
    "y_train = y_train.reshape(1, 1, 1, total_characters)\n",
    "print(\"y_train shape2\", y_train.shape)\n",
    "print()\n",
    "y_train = y_train * np.ones([1, generated_image.shape[1], generated_image.shape[1], total_characters])\n",
    "print(\"y_train shape3\", y_train.shape)\n",
    "print()\n",
    "\n",
    "print(\"generated_image shape\", generated_image.shape)\n",
    "print()\n",
    "# Concatenate the image and label on last axis\n",
    "generated_image_label = np.concatenate((generated_image, y_train), axis=-1)\n",
    "# to get rid of a warning floatx cast it\n",
    "generated_image_label = tf.cast(generated_image_label, tf.float32) \n",
    "print(\"generated_image_label shape\", generated_image_label.shape)\n",
    "print()\n",
    "decision = discriminator(generated_image_label)\n",
    "print (decision)"
   ]
  },
  {
   "cell_type": "markdown",
   "metadata": {},
   "source": [
    "<h2>Loss and optimizer</h2>\n",
    "Let's define our loss function and optimizers for both models. "
   ]
  },
  {
   "cell_type": "code",
   "execution_count": 14,
   "metadata": {},
   "outputs": [],
   "source": [
    "# This method returns a helper function to compute cross entropy loss\n",
    "cross_entropy = tf.keras.losses.BinaryCrossentropy()"
   ]
  },
  {
   "cell_type": "markdown",
   "metadata": {},
   "source": [
    "<b> Discriminator Loss</b>\n",
    "<br>\n",
    "This method quantifies how well the discriminator is able to distinguish real images from fakes. It compares the discriminator's predictions on real images to an array of 1s, and the discriminator's predictions on fake (generated) images to an array of 0s."
   ]
  },
  {
   "cell_type": "code",
   "execution_count": 15,
   "metadata": {},
   "outputs": [],
   "source": [
    "def discriminator_loss(real_output, fake_output):\n",
    "    real_loss = cross_entropy(tf.ones_like(real_output), real_output)\n",
    "    fake_loss = cross_entropy(tf.zeros_like(fake_output), fake_output)\n",
    "    total_loss = real_loss + fake_loss\n",
    "    return total_loss"
   ]
  },
  {
   "cell_type": "markdown",
   "metadata": {},
   "source": [
    "<b> Generator Loss</b>\n",
    "<br>\n",
    "The generator's loss quantifies how well it was able to trick the discriminator. Intuitively, if the generator is performing well, the discriminator will classify the fake images as real (or 1). Here, we will compare the discriminators decisions on the generated images to an array of 1s."
   ]
  },
  {
   "cell_type": "code",
   "execution_count": 16,
   "metadata": {},
   "outputs": [],
   "source": [
    "def generator_loss(fake_output):\n",
    "    return cross_entropy(tf.ones_like(fake_output), fake_output)"
   ]
  },
  {
   "cell_type": "markdown",
   "metadata": {},
   "source": [
    "<b>Generator and Disriminator optimizers</b>\n",
    "<br>\n",
    "The discriminator and the generator optimizers are different since we will train two networks separately."
   ]
  },
  {
   "cell_type": "code",
   "execution_count": 17,
   "metadata": {},
   "outputs": [],
   "source": [
    "generator_optimizer = tf.keras.optimizers.Adam(1.5e-4,0.5)\n",
    "discriminator_optimizer = tf.keras.optimizers.Adam(1.5e-4,0.5)"
   ]
  },
  {
   "cell_type": "markdown",
   "metadata": {},
   "source": [
    "<b>Saving model checkpoints</b>\n",
    "<br>\n",
    "Let's see how we can save and restore our trained model. Later we will call the below code to save the model after N number of epochs. Once the training is finished we can load the trained model and generate new data. This helps especially when you have a big dataset and takes hours or days to train a network. (You dont want to train models again and again)"
   ]
  },
  {
   "cell_type": "code",
   "execution_count": 18,
   "metadata": {},
   "outputs": [],
   "source": [
    "checkpoint_dir = './training_checkpoints'\n",
    "checkpoint_prefix = os.path.join(checkpoint_dir, \"ckpt\")\n",
    "checkpoint = tf.train.Checkpoint(generator_optimizer=generator_optimizer,\n",
    "                                 discriminator_optimizer=discriminator_optimizer,\n",
    "                                 generator=generator,\n",
    "                                 discriminator=discriminator)"
   ]
  },
  {
   "cell_type": "markdown",
   "metadata": {},
   "source": [
    "<h2>Training </h2>\n",
    "So, now the data pipeline, the network architecture, losses, optimizers and other required things are ready now we move on to another important point where we write the code for training our model. \n",
    "<br>"
   ]
  },
  {
   "cell_type": "code",
   "execution_count": 19,
   "metadata": {},
   "outputs": [],
   "source": [
    "EPOCHS = 1000\n",
    "noise_dim = 100\n",
    "num_examples_to_generate = 16"
   ]
  },
  {
   "cell_type": "markdown",
   "metadata": {},
   "source": [
    "<b> Creating random input for generating during training</b>"
   ]
  },
  {
   "cell_type": "code",
   "execution_count": 20,
   "metadata": {},
   "outputs": [],
   "source": [
    "# We will reuse this seed overtime (so it's easier)\n",
    "# preparing generator input for training \n",
    "noise = tf.random.normal([num_examples_to_generate, noise_dim])\n",
    "# Pick any one random number from 1 to 26\n",
    "int_labels = np.random.randint(low=1, high=26, size=(1,))\n",
    "# Convert into onehot vector\n",
    "y_train = keras.utils.to_categorical(int_labels, num_classes=total_characters)\n",
    "# reshape into the desired shape\n",
    "y_train = y_train * np.ones([num_examples_to_generate, total_characters])\n",
    "\n",
    "# Create final input for generator by concatenating noise and label\n",
    "seed = np.concatenate((noise, y_train), axis=-1)"
   ]
  },
  {
   "cell_type": "markdown",
   "metadata": {},
   "source": [
    "<b> Define the training loop</b>"
   ]
  },
  {
   "cell_type": "markdown",
   "metadata": {},
   "source": [
    "The training loop begins with generator receiving our conditional seed as input. That seed is used to produce an image corresponding to some character label. The discriminator is then used to classify real images (drawn from the training set) and fakes images (produced by the generator) given a conditional input (real/fake image + label). The loss is calculated for each of these models, and the gradients are used to update the generator and discriminator."
   ]
  },
  {
   "cell_type": "code",
   "execution_count": 21,
   "metadata": {},
   "outputs": [],
   "source": [
    "# Notice the use of `tf.function`\n",
    "# This annotation causes the function to be \"compiled\".\n",
    "@tf.function\n",
    "def train_step(images, labels):\n",
    "    # Input for Generator\n",
    "    gen_label = tf.reshape(labels, [-1, total_characters])\n",
    "    seed = tf.random.normal([gen_label.shape[0], noise_dim])\n",
    "    noise_seed =  tf.concat([seed, gen_label], -1)\n",
    "\n",
    "    # Input for Discriminator\n",
    "    disc_label = tf.reshape(labels, [-1, 1, 1, total_characters])\n",
    "    disc_label = disc_label * np.ones([disc_label.shape[0], images.shape[1], images.shape[1], total_characters])\n",
    "    \n",
    "    with tf.GradientTape() as gen_tape, tf.GradientTape() as disc_tape:\n",
    "        generated_images = generator(noise_seed, training=True)\n",
    "\n",
    "        # Reshaping label to match the image dimensions for concatenation  \n",
    "        images_label = tf.concat([images, disc_label], -1)\n",
    "        generated_images_label = tf.concat([generated_images, disc_label], -1)\n",
    "\n",
    "        real_output = discriminator(images_label, training=True)\n",
    "        fake_output = discriminator(generated_images_label, training=True)\n",
    "\n",
    "        gen_loss = generator_loss(fake_output)\n",
    "        disc_loss = discriminator_loss(real_output, fake_output)\n",
    "\n",
    "\n",
    "        gradients_of_generator = gen_tape.gradient(\\\n",
    "            gen_loss, generator.trainable_variables)\n",
    "        gradients_of_discriminator = disc_tape.gradient(\\\n",
    "            disc_loss, discriminator.trainable_variables)\n",
    "\n",
    "        generator_optimizer.apply_gradients(zip(\n",
    "            gradients_of_generator, generator.trainable_variables))\n",
    "        discriminator_optimizer.apply_gradients(zip(\n",
    "            gradients_of_discriminator, \n",
    "            discriminator.trainable_variables))\n",
    "    return gen_loss,disc_loss"
   ]
  },
  {
   "cell_type": "code",
   "execution_count": 24,
   "metadata": {},
   "outputs": [],
   "source": [
    "def train(dataset, epochs):\n",
    "    for epoch in range(epochs):\n",
    "        start = time.time()\n",
    "\n",
    "        gen_loss_list = []\n",
    "        disc_loss_list = []\n",
    "\n",
    "        # Get the batch of data using the dataset pipeline\n",
    "        for image_batch, label_batch in dataset:      \n",
    "            t = train_step(image_batch, label_batch)\n",
    "            gen_loss_list.append(t[0])\n",
    "            disc_loss_list.append(t[1])\n",
    "\n",
    "        g_loss = sum(gen_loss_list) / len(gen_loss_list)\n",
    "        d_loss = sum(disc_loss_list) / len(disc_loss_list)\n",
    "\n",
    "        # Save the model every 15 epochs\n",
    "        if (epoch + 1) % 15 == 0:\n",
    "            checkpoint.save(file_prefix = checkpoint_prefix)\n",
    "            # Produce images for the GIF as we go\n",
    "            display.clear_output(wait=True)\n",
    "            generate_and_save_images(generator,\n",
    "                                     epoch,\n",
    "                                     seed)\n",
    "\n",
    "        print ('Time for epoch {} is {} sec generator loss is {} and Discriminator loss is {}'.format(epoch + 1, time.time()-start, g_loss, d_loss))\n",
    "\n",
    "    # Generate after the final epoch\n",
    "    display.clear_output(wait=True)\n",
    "    generate_and_save_images(generator,\n",
    "                           epochs,\n",
    "                           seed)"
   ]
  },
  {
   "cell_type": "markdown",
   "metadata": {},
   "source": [
    "<b>Generate and save images</b><br>\n",
    "Lets write a function to save an image every epoch."
   ]
  },
  {
   "cell_type": "code",
   "execution_count": 25,
   "metadata": {},
   "outputs": [],
   "source": [
    "def generate_and_save_images(model, epoch, test_input):\n",
    "  # Notice `training` is set to False.\n",
    "  # This is so all layers run in inference mode (batchnorm).\n",
    "  predictions = model(test_input, training=False)\n",
    "\n",
    "  fig = plt.figure(figsize=(4,4))\n",
    "\n",
    "  for i in range(predictions.shape[0]):\n",
    "      plt.subplot(4, 4, i+1)\n",
    "      plt.imshow(predictions[i, :, :, 0] * 127.5 + 127.5, cmap='gray')\n",
    "      plt.axis('off')\n",
    "\n",
    "  plt.savefig('image_at_epoch_{:04d}.png'.format(epoch))\n",
    "  plt.show()"
   ]
  },
  {
   "cell_type": "markdown",
   "metadata": {},
   "source": [
    "<b>Train the model</b><br>\n",
    "Call the train() method defined above to train the generator and discriminator simultaneously. Note, training GANs can be tricky. It's important that the generator and discriminator do not overpower each other (e.g., that they train at a similar rate).\n",
    "\n",
    "At the beginning of the training, the generated images look like random noise. As training progresses, the generated characters will look increasingly real. "
   ]
  },
  {
   "cell_type": "code",
   "execution_count": 26,
   "metadata": {
    "scrolled": false
   },
   "outputs": [
    {
     "data": {
      "image/png": "[encoded data removed]",
      "text/plain": [
       "<Figure size 288x288 with 16 Axes>"
      ]
     },
     "metadata": {
      "needs_background": "light"
     },
     "output_type": "display_data"
    }
   ],
   "source": [
    "train(train_dataset, EPOCHS)"
   ]
  },
  {
   "cell_type": "markdown",
   "metadata": {},
   "source": [
    "Now lets restore our checkpoints"
   ]
  },
  {
   "cell_type": "code",
   "execution_count": 27,
   "metadata": {},
   "outputs": [
    {
     "data": {
      "text/plain": [
       "<tensorflow.python.training.tracking.util.CheckpointLoadStatus at 0x1264b5a8b48>"
      ]
     },
     "execution_count": 27,
     "metadata": {},
     "output_type": "execute_result"
    }
   ],
   "source": [
    "checkpoint.restore(tf.train.latest_checkpoint(checkpoint_dir))"
   ]
  },
  {
   "cell_type": "markdown",
   "metadata": {},
   "source": [
    "<h2>Generating alphabets given a character label</h2>\n",
    "Let's test our model"
   ]
  },
  {
   "cell_type": "code",
   "execution_count": 39,
   "metadata": {},
   "outputs": [
    {
     "data": {
      "image/png": "[encoded data removed]",
      "text/plain": [
       "<Figure size 288x288 with 1 Axes>"
      ]
     },
     "metadata": {
      "needs_background": "light"
     },
     "output_type": "display_data"
    }
   ],
   "source": [
    "num_examples_to_generate = 1\n",
    "noise = tf.random.normal([num_examples_to_generate, noise_dim])\n",
    "\n",
    "# Generate any random character using the below int_labels\n",
    "# int_labels = np.random.randint(low=1, high=26, size=(1,))\n",
    "# Generate manually given character label\n",
    "int_labels = 1\n",
    "y_train = keras.utils.to_categorical(int_labels, num_classes=total_characters)\n",
    "y_train = y_train * np.ones([num_examples_to_generate, total_characters])\n",
    "\n",
    "seed = np.concatenate((noise, y_train), axis=-1)\n",
    "\n",
    "generate_and_save_images(generator,\n",
    "                       1000,\n",
    "                       seed)"
   ]
  }
 ],
 "metadata": {
  "kernelspec": {
   "display_name": "Python 3.6 (tensorflow)",
   "language": "python",
   "name": "jeff_heaton_t81_park"
  },
  "language_info": {
   "codemirror_mode": {
    "name": "ipython",
    "version": 3
   },
   "file_extension": ".py",
   "mimetype": "text/x-python",
   "name": "python",
   "nbconvert_exporter": "python",
   "pygments_lexer": "ipython3",
   "version": "3.6.10"
  }
 },
 "nbformat": 4,
 "nbformat_minor": 4
}
