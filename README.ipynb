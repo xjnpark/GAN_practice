{
 "cells": [
  {
   "cell_type": "markdown",
   "metadata": {},
   "source": [
    "# GANs-실습\n",
    "\n",
    "이곳은 GAN을 실습하기 위한 곳이다.  \n",
    "\n",
    "Ian Goodfellow 가 GAN을 발표(2014)한 이후 GAN은 인공지능, 딥 러능 분야에 핵심이 되었고 널리 인용되고 사용되고 있다.  \n",
    "\n",
    "따라서 인공지능, 딥 러닝을 공부하려면 GAN을 반드시 알아야하며 기본적인 학습후 이곳에서 GAN을 실습해 볼 수 있다.  \n",
    "\n",
    "MNIST data로 Vanilla GAN, DCGAN, cDCGAN, and pix2pix models 을 test run 해본다.\n",
    "\n",
    "\n",
    "# 실습계획\n",
    "\n",
    "본 실습은 2021. 9월 특강을 위해 준비된 것임\n",
    "\n",
    "<a href=\"http://www.cse.or.kr/\">Korean Society Of Computational Science And Engineering</a>.\n",
    "\n",
    "시간 계획 : 미정\n",
    "\n",
    "<a href=\"http://www.cse.or.kr/board/conference/62\">here</a>\n",
    "\n",
    "\n",
    "# 참고자료\n",
    "\n",
    "다음 자료에서 code를 가져와서 약간의 수정을 거쳤다.\n",
    "\n",
    "1) <a href=\"https://www.tensorflow.org/tutorials\">TensorFlow2 tutorials</a>\n",
    "\n",
    "2) <a href=\"https://github.com/jeffheaton/t81_558_deep_learning\">Jeff Heaton's great lectures</a>\n",
    "\n"
   ]
  },
  {
   "cell_type": "code",
   "execution_count": null,
   "metadata": {},
   "outputs": [],
   "source": []
  }
 ],
 "metadata": {
  "kernelspec": {
   "display_name": "Python 3.6 (tensorflow)",
   "language": "python",
   "name": "jeff_heaton_t81_park"
  },
  "language_info": {
   "codemirror_mode": {
    "name": "ipython",
    "version": 3
   },
   "file_extension": ".py",
   "mimetype": "text/x-python",
   "name": "python",
   "nbconvert_exporter": "python",
   "pygments_lexer": "ipython3",
   "version": "3.6.10"
  }
 },
 "nbformat": 4,
 "nbformat_minor": 2
}
