{
 "cells": [
  {
   "cell_type": "markdown",
   "metadata": {},
   "source": [
    " \n",
    "## 환경 설정         \n",
    "\n",
    "<h3 style='color:green'> Python 설치 </h3>\n",
    "\n",
    "Miniconda (Anaconda) 이용 Python 3.7 다운로드 (data science 관련 packages 이미 포함되어 있음, Windows/Mac/Linux 가능) \n",
    " - Miniconda 는 the extensive Anaconda Python distribution 의 작은 용량 팩키지\n",
    "    \n",
    "<ul>\n",
    "    <li>\n",
    "<a href=\"https://docs.conda.io/en/latest/miniconda.html\" target=\"_blank\">Miniconda</a>\n",
    "    </li>\n",
    "</ul>\n",
    "<h3 style='color:green'> TensorFlow 설치 </h3>  \n",
    "\n",
    "@ CPU / GPU 유무 확인  \n",
    "\n",
    ". GPU check : <a href=\"https://developer.nvidia.com/cuda-gpus\" target=\"_blank\">NVIDIA GPU</a><br>  \n",
    "    \n",
    "<h4 style='color:blue'> TensorFlow w/o GPU(CPU only)</h4>  \n",
    "\n",
    "<code>conda install -c anaconda tensorflow</code>  \n",
    "\n",
    "<h4 style='color:blue'> TensorFlow w/ GPU</h4>  \n",
    "\n",
    "<code>conda install -c anaconda tensorflow-gpu</code>  \n",
    "\n",
    "\n",
    "#### (Software Installation 대신 Google CoLab 도 사용가능함)\n",
    "\n",
    "<h3 style='color:green'>  Conda Environment 만들기 </h3>\n",
    "\n",
    ". 각종류의 소프트웨어 팩키지를 한데 묶어 하나의 환경이 적용되는 방  \n",
    ". 여러종류의 방(각기 다른 이름)을 만들어 각각 다른 소프트웨어 팩키지를 한 컴퓨터에서 사용 가능  \n",
    "\n",
    ". 오늘 사용하는 방 이름 : 각자 혹은 <b>GAN_test_202108</b>  \n",
    "    \n",
    "<code>conda create --name GAN_test_202108 python=3.7</code> <br><br>\n",
    ". 이 방으로 들어가기 위해 (activate) command<br><br>\n",
    "<code>conda activate GAN_test_202108</code> or <code>activate GAN_test_202108</code>\n",
    "\n",
    "<h3 style='color:green'> 추가 pkg Library 설치 </h3>  \n",
    "\n",
    "<b>GAN_test_202108</b> 상태<br><br>\n",
    "<code>conda env update --file tools.yml</code><br><br>\n",
    "tools.yml file : root directory 에 위치\n",
    "\n",
    "<h3 style='color:green'> Jupyter Notebook 설치 </h3>  \n",
    "\n",
    "python 실행할 수 있는 editor<br><br>\n",
    "<code>conda install -y jupyter</code><br>\n",
    "<h4 style='color:blue'> Jupyter Notebook 에 지금의 환경 사용방 만들기 </h4>  \n",
    "\n",
    "<code>python -m ipykernel install --user --name GAN_test_202108 --display-name \"Python 3.7 (GAN_test_202108)\"</code><br><br>\n"
   ]
  },
  {
   "cell_type": "markdown",
   "metadata": {},
   "source": [
    "## 설정 환경 확인  \n",
    "jupyter notebook 실행\n",
    "\n",
    "<code>jupyter notebook</code><br><br>\n",
    "다음 코드 실행 (jupyter notebook [사용법](https://www.dataquest.io/blog/jupyter-notebook-tutorial/))\n"
   ]
  },
  {
   "cell_type": "code",
   "execution_count": 2,
   "metadata": {},
   "outputs": [
    {
     "name": "stdout",
     "output_type": "stream",
     "text": [
      "Tensor Flow Version: 2.4.1\n",
      "Keras Version: 2.4.0\n",
      "\n",
      "Python 3.6.10 (default, Mar  5 2020, 10:17:47) [MSC v.1900 64 bit (AMD64)]\n",
      "Pandas 1.0.5\n",
      "Scikit-Learn 0.23.1\n"
     ]
    }
   ],
   "source": [
    "# What version of Python do you have? run kernel \"Python 3.6 (tensorflow)\" or \"Python 3\"\n",
    "import sys\n",
    "\n",
    "import tensorflow.keras\n",
    "import pandas as pd\n",
    "import sklearn as sk\n",
    "import tensorflow as tf\n",
    "\n",
    "print(f\"Tensor Flow Version: {tf.__version__}\")\n",
    "print(f\"Keras Version: {tensorflow.keras.__version__}\")\n",
    "print()\n",
    "print(f\"Python {sys.version}\")\n",
    "print(f\"Pandas {pd.__version__}\")\n",
    "print(f\"Scikit-Learn {sk.__version__}\")\n"
   ]
  },
  {
   "cell_type": "code",
   "execution_count": 3,
   "metadata": {},
   "outputs": [
    {
     "name": "stdout",
     "output_type": "stream",
     "text": [
      "GPU is NOT AVAILABLE\n"
     ]
    }
   ],
   "source": [
    "gpu = len(tf.config.list_physical_devices('GPU'))>0\n",
    "print(\"GPU is\", \"available\" if gpu else \"NOT AVAILABLE\")"
   ]
  },
  {
   "cell_type": "markdown",
   "metadata": {},
   "source": [
    "### 설치 종료"
   ]
  },
  {
   "cell_type": "code",
   "execution_count": null,
   "metadata": {},
   "outputs": [],
   "source": []
  },
  {
   "cell_type": "code",
   "execution_count": null,
   "metadata": {},
   "outputs": [],
   "source": []
  },
  {
   "cell_type": "code",
   "execution_count": null,
   "metadata": {},
   "outputs": [],
   "source": []
  },
  {
   "cell_type": "code",
   "execution_count": null,
   "metadata": {},
   "outputs": [],
   "source": []
  },
  {
   "cell_type": "code",
   "execution_count": null,
   "metadata": {},
   "outputs": [],
   "source": []
  },
  {
   "cell_type": "code",
   "execution_count": null,
   "metadata": {},
   "outputs": [],
   "source": []
  },
  {
   "cell_type": "code",
   "execution_count": null,
   "metadata": {},
   "outputs": [],
   "source": []
  },
  {
   "cell_type": "code",
   "execution_count": null,
   "metadata": {},
   "outputs": [],
   "source": [
    "# print(\"GPU is\", \"available\" if tf.test.is_gpu_available() else \"NOT AVAILABLE\")"
   ]
  },
  {
   "cell_type": "code",
   "execution_count": 7,
   "metadata": {},
   "outputs": [],
   "source": [
    "# run kernel \"Python=3\" only <============!!!!!!!!!!!\n",
    "# import torch\n",
    "# from torch import nn\n",
    "# import numpy as np\n",
    "# import matplotlib.pyplot as plt\n",
    "# %matplotlib inline\n",
    "\n",
    "# train_on_gpu = torch.cuda.is_available()\n",
    "# if(train_on_gpu):\n",
    "#     print(\"train on GPU!!!\")\n",
    "# else:\n",
    "#     print(\"No GPU available\")"
   ]
  },
  {
   "cell_type": "code",
   "execution_count": 6,
   "metadata": {},
   "outputs": [
    {
     "data": {
      "text/plain": [
       "'GeForce MX150'"
      ]
     },
     "execution_count": 6,
     "metadata": {},
     "output_type": "execute_result"
    }
   ],
   "source": [
    "torch.cuda.get_device_name(torch.cuda.current_device())"
   ]
  },
  {
   "cell_type": "code",
   "execution_count": null,
   "metadata": {},
   "outputs": [],
   "source": []
  }
 ],
 "metadata": {
  "kernelspec": {
   "display_name": "Python 3.6 (tensorflow)",
   "language": "python",
   "name": "jeff_heaton_t81_park"
  },
  "language_info": {
   "codemirror_mode": {
    "name": "ipython",
    "version": 3
   },
   "file_extension": ".py",
   "mimetype": "text/x-python",
   "name": "python",
   "nbconvert_exporter": "python",
   "pygments_lexer": "ipython3",
   "version": "3.6.10"
  }
 },
 "nbformat": 4,
 "nbformat_minor": 4
}
