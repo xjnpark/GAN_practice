{
 "cells": [
  {
   "cell_type": "markdown",
   "metadata": {},
   "source": [
    "## 한글 자모를 받아서 자모 이미지 생성 .png"
   ]
  },
  {
   "cell_type": "code",
   "execution_count": 43,
   "metadata": {},
   "outputs": [
    {
     "name": "stdout",
     "output_type": "stream",
     "text": [
      "Finished generating 20 images.\n",
      "Finished generating 24 images.\n",
      "Finished generating 24 images.\n"
     ]
    }
   ],
   "source": [
    "#!/usr/bin/env python\n",
    "\n",
    "import argparse\n",
    "import glob\n",
    "import io\n",
    "import os\n",
    "import random\n",
    "\n",
    "import numpy\n",
    "from PIL import Image, ImageFont, ImageDraw\n",
    "from scipy.ndimage.interpolation import map_coordinates\n",
    "from scipy.ndimage.filters import gaussian_filter\n",
    "\n",
    "\n",
    "SCRIPT_PATH = os.path.dirname(os.path.abspath('__file__'))\n",
    "\n",
    "# Default data paths.\n",
    "DEFAULT_LABEL_FILE_CHO = os.path.join(SCRIPT_PATH,\n",
    "                                  '../../labels/hgl_cho.txt')\n",
    "DEFAULT_LABEL_FILE_JUNG = os.path.join(SCRIPT_PATH,\n",
    "                                  '../../labels/hgl_jung.txt')\n",
    "DEFAULT_LABEL_FILE_JONG = os.path.join(SCRIPT_PATH,\n",
    "                                  '../../labels/hgl_jong.txt')\n",
    "DEFAULT_FONTS_DIR = os.path.join(SCRIPT_PATH, '../../fonts')\n",
    "DEFAULT_OUTPUT_DIR_1 = os.path.join(SCRIPT_PATH, '../../../Lab2-image-hgl_cho-data')\n",
    "DEFAULT_OUTPUT_DIR_2 = os.path.join(SCRIPT_PATH, '../../../Lab2-image-hgl_jung-data')\n",
    "DEFAULT_OUTPUT_DIR_3 = os.path.join(SCRIPT_PATH, '../../../Lab2-image-hgl_jong-data')\n",
    "\n",
    "\n",
    "# Width and height of the resulting image.\n",
    "IMAGE_WIDTH = 64\n",
    "IMAGE_HEIGHT = 64\n",
    "\n",
    "def generate_hangul_images(label_file, fonts_dir, output_dir):\n",
    "    \"\"\"Generate Hangul image files.\n",
    "\n",
    "    This will take in the passed in labels file and will generate several\n",
    "    images using the font files provided in the font directory. The font\n",
    "    directory is expected to be populated with *.ttf (True Type Font) files.\n",
    "    The generated images will be stored in the given output directory. Image\n",
    "    paths will have their corresponding labels listed in a CSV file.\n",
    "    \"\"\"\n",
    "    with io.open(label_file, 'rt', encoding='utf-8') as f:\n",
    "        labels = f.read()\n",
    "        labels.split()\n",
    "\n",
    "    image_dir = os.path.join(output_dir) # 'font-images'\n",
    "    if not os.path.exists(image_dir):\n",
    "        os.makedirs(os.path.join(image_dir))\n",
    "\n",
    "    # Get a list of the fonts.\n",
    "    fonts = glob.glob(os.path.join(fonts_dir, '*.ttf'))\n",
    "\n",
    "    total_count = 0\n",
    "    prev_count = 0\n",
    "    for character in labels:\n",
    "        # Print image count roughly every 5000 images.\n",
    "        if total_count - prev_count > 5000:\n",
    "            prev_count = total_count\n",
    "            print('{} images generated...'.format(total_count))\n",
    "\n",
    "        for font in fonts:\n",
    "            total_count += 1\n",
    "            image = Image.new('L', (IMAGE_WIDTH, IMAGE_HEIGHT), color=0)\n",
    "            font = ImageFont.truetype(font, 48)\n",
    "            drawing = ImageDraw.Draw(image)\n",
    "            w, h = drawing.textsize(character, font=font)\n",
    "            drawing.text(\n",
    "                ((IMAGE_WIDTH-w)/2, (IMAGE_HEIGHT-h)/2),\n",
    "                character,\n",
    "                fill=(255),\n",
    "                font=font\n",
    "            )\n",
    "            file_string = '{}.png'.format(total_count)\n",
    "            file_path = os.path.join(image_dir, file_string)\n",
    "            image.save(file_path, 'PNG')\n",
    "\n",
    "    print('Finished generating {} images.'.format(total_count))\n",
    "\n",
    "if __name__ == '__main__':\n",
    "    parser = argparse.ArgumentParser()\n",
    "    parser.add_argument('-f')\n",
    "    parser.add_argument('--label-file', type=str, dest='label_file',\n",
    "                        default=DEFAULT_LABEL_FILE,\n",
    "                        help='File containing newline delimited labels.')\n",
    "    parser.add_argument('--font-dir', type=str, dest='fonts_dir',\n",
    "                        default=DEFAULT_FONTS_DIR,\n",
    "                        help='Directory of ttf fonts to use.')\n",
    "    parser.add_argument('--output-dir', type=str, dest='output_dir',\n",
    "                        default=DEFAULT_OUTPUT_DIR,\n",
    "                        help='Output directory to store generated images and '\n",
    "                             'label CSV file.')\n",
    "    args = parser.parse_args()\n",
    "    generate_hangul_images(DEFAULT_LABEL_FILE_CHO, args.fonts_dir, DEFAULT_OUTPUT_DIR_1)\n",
    "    generate_hangul_images(DEFAULT_LABEL_FILE_JUNG, args.fonts_dir, DEFAULT_OUTPUT_DIR_2)\n",
    "    generate_hangul_images(DEFAULT_LABEL_FILE_JUNG, args.fonts_dir, DEFAULT_OUTPUT_DIR_3)\n"
   ]
  },
  {
   "cell_type": "code",
   "execution_count": 38,
   "metadata": {},
   "outputs": [
    {
     "data": {
      "text/plain": [
       "['ㄱㄲㄴㄷㄸㄹㅁㅂㅃㅅㅆㅇㅈㅉㅊㅋㅌㅍㅎ']"
      ]
     },
     "execution_count": 38,
     "metadata": {},
     "output_type": "execute_result"
    }
   ],
   "source": [
    "    with io.open(DEFAULT_LABEL_FILE, 'rt', encoding='utf-8') as f:\n",
    "        labels = f.read()\n",
    "    #print(labels.split())\n",
    "    labels.split()\n",
    "    c"
   ]
  },
  {
   "cell_type": "code",
   "execution_count": 39,
   "metadata": {},
   "outputs": [
    {
     "data": {
      "text/plain": [
       "20"
      ]
     },
     "execution_count": 39,
     "metadata": {},
     "output_type": "execute_result"
    }
   ],
   "source": [
    "len(labels)"
   ]
  },
  {
   "cell_type": "code",
   "execution_count": null,
   "metadata": {},
   "outputs": [],
   "source": []
  }
 ],
 "metadata": {
  "anaconda-cloud": {},
  "kernelspec": {
   "display_name": "Python 3.6 (tensorflow)",
   "language": "python",
   "name": "jeff_heaton_t81_park"
  },
  "language_info": {
   "codemirror_mode": {
    "name": "ipython",
    "version": 3
   },
   "file_extension": ".py",
   "mimetype": "text/x-python",
   "name": "python",
   "nbconvert_exporter": "python",
   "pygments_lexer": "ipython3",
   "version": "3.6.10"
  }
 },
 "nbformat": 4,
 "nbformat_minor": 1
}
